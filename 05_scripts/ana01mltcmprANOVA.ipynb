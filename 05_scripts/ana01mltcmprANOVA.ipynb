import matplotlib.pyplot as plt
import numpy as pd
import pandas as pd
from pandas import DataFrame
​
path = (r'C:\Users\juliu\Desktop\NG_kiel\moonwalk_CliH\04_data\00_rawdata\raw_data.xlsx')
​
dat_raw = pd.read_excel(path,sheet_name='Sheet1')
dat_pf = dat_raw[['Force Norm BW Left', 'Force NrmBW Right']].mean(axis=1)


_ = plt.hist(dat_pf, bins='auto')  # arguments are passed to np.histogram
plt.show()

from statsmodels.stats.multicomp import pairwise_tukeyhsd

tukey = pairwise_tukeyhsd(endog=dat_pf,     # Data
                          groups=dat_raw['AlterG % BW','Gradient','Speed'],  # Groups
                          alpha=0.05)          # Significance level

tukey.plot_simultaneous()    # Plot group confidence intervals
plt.vlines(x=49.57,ymin=-0.5,ymax=4.5, color="red")

tukey.summary()              # See test summary